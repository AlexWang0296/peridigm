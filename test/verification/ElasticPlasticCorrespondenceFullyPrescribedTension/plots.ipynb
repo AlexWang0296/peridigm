{
 "metadata": {
  "name": ""
 },
 "nbformat": 3,
 "nbformat_minor": 0,
 "worksheets": [
  {
   "cells": [
    {
     "cell_type": "code",
     "collapsed": false,
     "input": [
      "%pylab inline --no-import-all"
     ],
     "language": "python",
     "metadata": {},
     "outputs": [
      {
       "output_type": "stream",
       "stream": "stdout",
       "text": [
        "Populating the interactive namespace from numpy and matplotlib\n"
       ]
      }
     ],
     "prompt_number": 36
    },
    {
     "cell_type": "code",
     "collapsed": false,
     "input": [
      "%%bash\n",
      "exotxt ElasticCorrespondenceFullyPrescribedTension.h ElasticCorrespondenceFullyPrescribedTension.txt;"
     ],
     "language": "python",
     "metadata": {},
     "outputs": [
      {
       "output_type": "stream",
       "stream": "stdout",
       "text": [
        "\n",
        "                           *** exotxt Version 1.22 ***\n",
        "                               Revised 2012/11/07                      \n",
        "\n",
        "                    EXODUSII DATABASE TO TEXT FILE TRANSLATOR\n",
        "\n",
        "                          Run on 2013-09-18 at 10:08:28\n",
        "\n",
        "               ==== Email gdsjaar@sandia.gov for support ====\n",
        "\n",
        "\n",
        " DATABASE INITIAL VARIABLES\n",
        "\n",
        " Peridigm\n",
        "\n",
        " Number of coordinates per node         =         3\n",
        " Number of nodes                        =         1\n",
        " Number of elements                     =         1\n",
        " Number of element blocks               =         1\n",
        "\n",
        " Number of node sets                    =         0\n",
        " Number of side sets                    =         0\n",
        "\n",
        " Number of global variables             =         6\n",
        " Number of variables at each node       =         0\n",
        " Number of variables at each element    =         0\n",
        "\n",
        "\n",
        "        6 time steps on the input database\n",
        "       1 time steps processed\n",
        "       2 time steps processed\n",
        "       3 time steps processed\n",
        "       4 time steps processed\n",
        "       5 time steps processed\n",
        "       6 time steps processed\n",
        "\n",
        "    6 time steps have been written to the text file\n",
        "\n",
        " exotxt used 0.01 seconds of CPU time\n"
       ]
      }
     ],
     "prompt_number": 37
    },
    {
     "cell_type": "code",
     "collapsed": false,
     "input": [
      "run exoplot.py ElasticCorrespondenceFullyPrescribedTension.txt"
     ],
     "language": "python",
     "metadata": {},
     "outputs": [],
     "prompt_number": 38
    },
    {
     "cell_type": "code",
     "collapsed": false,
     "input": [
      "var_names"
     ],
     "language": "python",
     "metadata": {},
     "outputs": [
      {
       "metadata": {},
       "output_type": "pyout",
       "prompt_number": 39,
       "text": [
        "array(['TOP_REACTION_FORCEX', 'TOP_REACTION_FORCEY', 'TOP_REACTION_FORCEZ',\n",
        "       'BOTTOM_REACTION_FORCEX', 'BOTTOM_REACTION_FORCEY',\n",
        "       'BOTTOM_REACTION_FORCEZ'], \n",
        "      dtype='|S22')"
       ]
      }
     ],
     "prompt_number": 39
    },
    {
     "cell_type": "code",
     "collapsed": false,
     "input": [
      "eng_stress_Y = (data_vars[4] - data_vars[1])/2*1.0e-9"
     ],
     "language": "python",
     "metadata": {},
     "outputs": [],
     "prompt_number": 40
    },
    {
     "cell_type": "code",
     "collapsed": false,
     "input": [
      "eng_strain_Y = time_steps*0.001/1.0e-8"
     ],
     "language": "python",
     "metadata": {},
     "outputs": [],
     "prompt_number": 41
    },
    {
     "cell_type": "code",
     "collapsed": false,
     "input": [
      "plt.plot(eng_stress_Y,eng_strain_Y)"
     ],
     "language": "python",
     "metadata": {},
     "outputs": [
      {
       "metadata": {},
       "output_type": "pyout",
       "prompt_number": 42,
       "text": [
        "[<matplotlib.lines.Line2D at 0x10be05e90>]"
       ]
      },
      {
       "metadata": {},
       "output_type": "display_data",
       "png": "[encoded data removed]",
       "text": [
        "<matplotlib.figure.Figure at 0x10be7ae10>"
       ]
      }
     ],
     "prompt_number": 42
    }
   ],
   "metadata": {}
  }
 ]
}